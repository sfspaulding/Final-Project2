{
 "cells": [
  {
   "cell_type": "code",
   "execution_count": 1,
   "metadata": {},
   "outputs": [],
   "source": [
    "# Stephen Spaulding\n",
    "# Please see below for my code following the outline proposed by the template and in the midterm document. \n",
    "# Load libraries and sub-libraries that might be used subsequently \n",
    "\n",
    "import numpy                   as np\n",
    "import pandas                  as pd \n",
    "import matplotlib              as mpl\n",
    "import matplotlib.pyplot       as plt\n",
    "\n",
    "from   sklearn.svm             import SVC\n",
    "from   scipy                   import stats\n",
    "from   pandas.plotting         import scatter_matrix\n",
    "from   sklearn.metrics         import confusion_matrix\n",
    "from   sklearn.model_selection import GridSearchCV\n",
    "from   sklearn.metrics         import accuracy_score\n",
    "\n",
    "%matplotlib inline"
   ]
  },
  {
   "cell_type": "code",
   "execution_count": 2,
   "metadata": {},
   "outputs": [
    {
     "ename": "SyntaxError",
     "evalue": "invalid syntax (<ipython-input-2-75852efc022d>, line 1)",
     "output_type": "error",
     "traceback": [
      "\u001b[1;36m  File \u001b[1;32m\"<ipython-input-2-75852efc022d>\"\u001b[1;36m, line \u001b[1;32m1\u001b[0m\n\u001b[1;33m    echo \"# Machine-Learning-Final-Project\" >> README.md\u001b[0m\n\u001b[1;37m         ^\u001b[0m\n\u001b[1;31mSyntaxError\u001b[0m\u001b[1;31m:\u001b[0m invalid syntax\n"
     ]
    }
   ],
   "source": [
    "echo \"# Machine-Learning-Final-Project\" >> README.md\n",
    "git init\n",
    "git add README.md\n",
    "git commit -m \"first commit\"\n",
    "git branch -M main\n",
    "git remote add origin https://github.com/sfspaulding/Machine-Learning-Final-Project.git\n",
    "git push -u origin main\n",
    "                "
   ]
  },
  {
   "cell_type": "markdown",
   "metadata": {},
   "source": [
    "## Section 1. Read and explore data"
   ]
  },
  {
   "cell_type": "code",
   "execution_count": null,
   "metadata": {},
   "outputs": [],
   "source": [
    "# read .csv wind and power data\n",
    "data = pd.read_csv(\"Turbine_Data.csv\")"
   ]
  },
  {
   "cell_type": "code",
   "execution_count": null,
   "metadata": {
    "scrolled": true
   },
   "outputs": [],
   "source": [
    "# print the number of rows and columns \n",
    "row, col = data.shape"
   ]
  },
  {
   "cell_type": "code",
   "execution_count": null,
   "metadata": {},
   "outputs": [],
   "source": [
    "print(\"Number of Rows   : \"    + str(row)) \n",
    "print(\"Number of Columns: \" + str(col)) "
   ]
  },
  {
   "cell_type": "code",
   "execution_count": null,
   "metadata": {},
   "outputs": [],
   "source": [
    "# Preview the first few lines of the loaded data and show dimension of data\n",
    "data.head()"
   ]
  },
  {
   "cell_type": "code",
   "execution_count": null,
   "metadata": {},
   "outputs": [],
   "source": [
    "# generate statistics of the \"raw\" data\n",
    "data.describe()"
   ]
  },
  {
   "cell_type": "code",
   "execution_count": null,
   "metadata": {},
   "outputs": [],
   "source": [
    "# Identify feaures and labels. We want to predict power (MW) using only wind speed at 100 m (m/s)\n",
    "X = data[\"WindSpeed\"]\n",
    "y = data[\"ActivePower\"]"
   ]
  },
  {
   "cell_type": "code",
   "execution_count": null,
   "metadata": {},
   "outputs": [],
   "source": [
    "# Check for NaN entries\n",
    "\n",
    "group  = y.unique()\n",
    "\n",
    "print(group)\n",
    "\n",
    "y_vals = y.value_counts(ascending=True)\n",
    "print(y_vals)\n",
    "\n",
    "# Print histogram here\n",
    "y.hist()"
   ]
  },
  {
   "cell_type": "code",
   "execution_count": null,
   "metadata": {},
   "outputs": [],
   "source": [
    "# removing NaN entries from X and y\n",
    "n_nan     = y.isnull().sum()\n",
    "print('number of nan in labels: ' +str(n_nan))\n",
    "\n",
    "nan_elems = y.isnull()\n",
    "\n",
    "X        = X[~ nan_elems]\n",
    "y        = y[~ nan_elems]"
   ]
  },
  {
   "cell_type": "code",
   "execution_count": null,
   "metadata": {},
   "outputs": [],
   "source": [
    "# Print out the size of X and y\n",
    "X.size"
   ]
  },
  {
   "cell_type": "code",
   "execution_count": null,
   "metadata": {},
   "outputs": [],
   "source": [
    "y.size"
   ]
  },
  {
   "cell_type": "code",
   "execution_count": null,
   "metadata": {},
   "outputs": [],
   "source": [
    "# Plot time series of power\n",
    "X.plot(x='time', y='power (MW)', style='o', grid = True, title = 'Power')"
   ]
  },
  {
   "cell_type": "code",
   "execution_count": null,
   "metadata": {},
   "outputs": [],
   "source": [
    "# Plot time series of windspeed\n",
    "y.plot(x='time', y='windspeed (m/s)', style='o', grid = True, title = 'Power')"
   ]
  },
  {
   "cell_type": "markdown",
   "metadata": {},
   "source": [
    "## Section 2. Linear Regression"
   ]
  },
  {
   "cell_type": "code",
   "execution_count": null,
   "metadata": {},
   "outputs": [],
   "source": [
    "# Plot scatter\n",
    "plt.scatter(X, y)"
   ]
  },
  {
   "cell_type": "code",
   "execution_count": null,
   "metadata": {},
   "outputs": [],
   "source": [
    "# Predicting Power might be too difficult after all\n",
    "# Let's focus on predicting the power for windspeeds <= 15 m/s\n",
    "data1  = data.loc[(data['WindSpeed'] <= 15)]\n",
    "X = data1['WindSpeed']\n",
    "y = data1['ActivePower']\n",
    "\n",
    "# Compute the sample size\n",
    "sample_size = X.size\n",
    "sample_size"
   ]
  },
  {
   "cell_type": "code",
   "execution_count": null,
   "metadata": {},
   "outputs": [],
   "source": [
    "# Plot the new dataset\n",
    "plt.plot(X, y, \"b.\")\n",
    "plt.xlabel(\"windspeed (m/s)\", fontsize=18)\n",
    "plt.ylabel(\"power (MW)\", rotation=90, fontsize=18)\n",
    "plt.axis([0, 39, 0, 17])\n",
    "plt.title(\"windspeed vs. power\")\n",
    "plt.show()"
   ]
  },
  {
   "cell_type": "markdown",
   "metadata": {},
   "source": [
    "### Perform a fitting using the Normal Equations"
   ]
  },
  {
   "cell_type": "code",
   "execution_count": null,
   "metadata": {},
   "outputs": [],
   "source": [
    "# original sample size = 105408; new sample size = 98496\n",
    "X_b = np.c_[np.ones((94291, 1)), X]  # add x0 = 1 to each instance\n",
    "# Use Equation 4-4. Normal Equation to determine theta\n",
    "theta_best = np.linalg.inv(X_b.T.dot(X_b)).dot(X_b.T).dot(y)"
   ]
  },
  {
   "cell_type": "code",
   "execution_count": null,
   "metadata": {
    "scrolled": true
   },
   "outputs": [],
   "source": [
    "# Print Dimension and Display the two-column matrix \n",
    "nrow, ncol = data1.shape\n",
    "print(\"nrow: \"    + str(nrow)),\n",
    "print(\"ncol: \" + str(ncol))"
   ]
  },
  {
   "cell_type": "code",
   "execution_count": null,
   "metadata": {},
   "outputs": [],
   "source": [
    "# Display theta_best\n",
    "theta_best"
   ]
  },
  {
   "cell_type": "code",
   "execution_count": null,
   "metadata": {},
   "outputs": [],
   "source": [
    "# Make predictions using theta_best\n",
    "X_new = np.array([[0], [20]])\n",
    "X_new_b = np.c_[np.ones((2, 1)), X_new]  # add x0 = 1 to each instance\n",
    "y_predict = X_new_b.dot(theta_best)\n",
    "y_predict"
   ]
  },
  {
   "cell_type": "code",
   "execution_count": null,
   "metadata": {},
   "outputs": [],
   "source": [
    "plt.plot(X_new, y_predict, \"r-\")\n",
    "plt.plot(X, y, \"b.\")\n",
    "plt.axis([0, 17, 0, 17])\n",
    "plt.show()"
   ]
  },
  {
   "cell_type": "code",
   "execution_count": null,
   "metadata": {},
   "outputs": [],
   "source": [
    "# Perform regression using sklearn\n",
    "from sklearn.linear_model import LinearRegression\n",
    "lin_reg = LinearRegression()\n",
    "# perform the fitting\n",
    "lin_reg.fit(X_new_b, y_predict)\n",
    "lin_reg.intercept_, lin_reg.coef_"
   ]
  },
  {
   "cell_type": "code",
   "execution_count": null,
   "metadata": {},
   "outputs": [],
   "source": [
    "theta_best_svd, residuals, rank, s = np.linalg.lstsq(X_b, y, rcond=1e-6)\n",
    "theta_best_svd"
   ]
  },
  {
   "cell_type": "markdown",
   "metadata": {},
   "source": [
    "## Section 3. Polinomial interpolation"
   ]
  },
  {
   "cell_type": "code",
   "execution_count": null,
   "metadata": {},
   "outputs": [],
   "source": [
    "X = data['wind speed at 100m (m/s)']\n",
    "y = data['power (MW)']"
   ]
  },
  {
   "cell_type": "code",
   "execution_count": null,
   "metadata": {},
   "outputs": [],
   "source": [
    "X = X.values.reshape(X.shape[0],-1)"
   ]
  },
  {
   "cell_type": "code",
   "execution_count": null,
   "metadata": {},
   "outputs": [],
   "source": [
    "# Do a quadratic function fitting\n",
    "from sklearn.preprocessing import PolynomialFeatures\n",
    "poly_features = PolynomialFeatures(degree=2, include_bias=False)\n",
    "X_poly = poly_features.fit_transform(X)\n",
    "X[0]"
   ]
  },
  {
   "cell_type": "code",
   "execution_count": null,
   "metadata": {},
   "outputs": [],
   "source": [
    "X_poly[0]"
   ]
  },
  {
   "cell_type": "code",
   "execution_count": null,
   "metadata": {},
   "outputs": [],
   "source": [
    "# Do regression on the polynomial\n",
    "from sklearn.linear_model import LinearRegression\n",
    "lin_reg = LinearRegression()\n",
    "lin_reg.fit(X_poly, y)\n",
    "lin_reg.intercept_, lin_reg.coef_"
   ]
  },
  {
   "cell_type": "code",
   "execution_count": null,
   "metadata": {},
   "outputs": [],
   "source": [
    "# Make predictions\n",
    "X_new=np.linspace(0, 16, 100).reshape(100, 1)\n",
    "X_new_poly = poly_features.transform(X_new)\n",
    "y_new = lin_reg.predict(X_new_poly)\n",
    "plt.plot(X, y, \"b.\")\n",
    "plt.plot(X_new, y_new, \"r-\", linewidth=2, label=\"Predictions\")\n",
    "plt.xlabel(\"$Windspeed (m/s)$\", fontsize=18)\n",
    "plt.ylabel(\"$Wind Power (MW)$\", rotation=90, fontsize=18)\n",
    "plt.legend(loc=\"upper left\", fontsize=14)\n",
    "plt.axis([0, 16, 0, 20])\n",
    "\n",
    "plt.show()"
   ]
  },
  {
   "cell_type": "markdown",
   "metadata": {},
   "source": [
    "## Section 4. Evaluation and Pipeline"
   ]
  },
  {
   "cell_type": "code",
   "execution_count": null,
   "metadata": {},
   "outputs": [],
   "source": [
    "from sklearn.metrics import mean_squared_error\n",
    "from sklearn.model_selection import train_test_split\n",
    "\n",
    "def plot_learning_curves(model, X, y):\n",
    "    X_train, X_val, y_train, y_val = train_test_split(X, y, test_size=0.2, random_state=10)\n",
    "    train_errors, val_errors = [], []\n",
    "    for m in range(1, len(X_train)):\n",
    "        model.fit(X_train[:m], y_train[:m])\n",
    "        y_train_predict = model.predict(X_train[:m])\n",
    "        y_val_predict = model.predict(X_val)\n",
    "        train_errors.append(mean_squared_error(y_train[:m], y_train_predict))\n",
    "        val_errors.append(mean_squared_error(y_val, y_val_predict))\n",
    "\n",
    "    plt.plot(np.sqrt(train_errors), \"r-+\", linewidth=2, label=\"train\")\n",
    "    plt.plot(np.sqrt(val_errors), \"b-\", linewidth=3, label=\"val\")\n",
    "    plt.legend(loc=\"upper right\", fontsize=14)\n",
    "    plt.xlabel(\"Training set size\", fontsize=14)\n",
    "    plt.ylabel(\"RMSE\", fontsize=14)"
   ]
  },
  {
   "cell_type": "code",
   "execution_count": null,
   "metadata": {},
   "outputs": [],
   "source": [
    "from sklearn.pipeline import Pipeline\n",
    "\n",
    "polynomial_regression = Pipeline([\n",
    "        (\"poly_features\", PolynomialFeatures(degree=2, include_bias=False)),\n",
    "        (\"lin_reg\", LinearRegression()),\n",
    "    ])\n",
    "# Display the learning curves\n",
    "\n",
    "lin_reg = LinearRegression()\n",
    "plot_learning_curves(lin_reg, X, y)\n",
    "plt.axis([0, 10000, 0, 14])\n",
    "plt.show()"
   ]
  },
  {
   "cell_type": "code",
   "execution_count": null,
   "metadata": {},
   "outputs": [],
   "source": [
    "# Repeat evaluation with degree=3\n",
    "from sklearn.pipeline import Pipeline\n",
    "\n",
    "polynomial_regression = Pipeline([\n",
    "        (\"poly_features\", PolynomialFeatures(degree=3, include_bias=False)),\n",
    "        (\"lin_reg\", LinearRegression()),\n",
    "    ])\n",
    "# Display the learning curves\n",
    "\n",
    "plot_learning_curves(lin_reg, X, y)\n",
    "plt.axis([0, 10000, 0, 14])\n",
    "plt.show()     "
   ]
  },
  {
   "cell_type": "markdown",
   "metadata": {},
   "source": [
    "## Section 5. Discussion of results\n",
    "### What is the benefit of inspecting the data before applying any ML technique?\n",
    "### How would you go about improving your model to predict power over the full range (including WS> 15 m/s) of windspeeds?"
   ]
  },
  {
   "cell_type": "code",
   "execution_count": null,
   "metadata": {},
   "outputs": [],
   "source": [
    "#Discussion Below. I included this text in my Midterm word document in case it's easier to read there.\n",
    "\n",
    "#    The benefit of inspecting the data can best be summed up by the phrase “begin with the end in mind”.\n",
    "#Inspecting the data allows us to display and visualize it, allowing one to better understand the problem and \n",
    "#the nature of the relationship between the variables in question, as well as the detection of potential noise/outlier data \n",
    "#that needs to be scrubbed.\n",
    "\n",
    "#    In this case we see what appears to be a roughly cubic relationship between wind speed and power output\n",
    "#over the 0-15 m/s range of wind speeds. We also notice that the power output becomes relatively constant\n",
    "#following what is effectively a step function at wind speeds greater than 15 m/s.\n",
    "#Right away we know that the best model to make predictions about power output between 0-15 m/s wind speeds\n",
    "#is likely not going to be a linear model, since the relationship is nakedly non-linear.\n",
    "#Furthermore, we can intuit that the regions for which wind speed is above 15 m/s\n",
    "#is not predictive of power output in regions where the wind speed is less than 15 m/s.\n",
    "#Thus, we know to exclude that data from our training set and not waste time having\n",
    "#the model optimize itself and eventually weight this data to zero.\n",
    "#By inspecting the data at the outset, we avoid model development pathways\n",
    "#that are strictly suboptimal and thereby save valuable time and computational resources.\n",
    "\n",
    "#    It is readily apparent that the power output at wind speeds greater than 15 m/s is not\n",
    "#useful in making predictions regarding wind speeds below this threshold.\n",
    "#Thus, I would continue to have the model disregard data for wind speeds above 15 m/s\n",
    "#when performing training, keeping with a model that is maximally accurate\n",
    "#at predicting power outputs in the 0-15 m/s\n",
    "#but unable to accurately make predictions about power output at windspeeds above 15 m/s.\n",
    "#Once optimized, I would manually hard code the model to have it predict 16MW\n",
    "#(or whatever the exact average value is in this region) for wind speeds between 15 m/s and some upper threshold.\n",
    "#The upper threshold I reference is the average wind speed at which the turbine shuts down\n",
    "#and the system generates zero power output.\n",
    "#This could be written as a simple step function as I’ve described it,\n",
    "#or perhaps it would increase accuracy to have the model have another cubic curve around the region of power loss.\n"
   ]
  }
 ],
 "metadata": {
  "kernelspec": {
   "display_name": "Python 3",
   "language": "python",
   "name": "python3"
  },
  "language_info": {
   "codemirror_mode": {
    "name": "ipython",
    "version": 3
   },
   "file_extension": ".py",
   "mimetype": "text/x-python",
   "name": "python",
   "nbconvert_exporter": "python",
   "pygments_lexer": "ipython3",
   "version": "3.8.3"
  }
 },
 "nbformat": 4,
 "nbformat_minor": 4
}
