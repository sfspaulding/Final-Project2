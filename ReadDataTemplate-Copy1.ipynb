{
 "cells": [
  {
   "cell_type": "code",
   "execution_count": 22,
   "metadata": {
    "_cell_guid": "b1076dfc-b9ad-4769-8c92-a6c4dae69d19",
    "_uuid": "8f2839f25d086af736a60e9eeb907d3b93b6e0e5"
   },
   "outputs": [],
   "source": [
    "# Load libraries and sub-libraries that might be used subsequently \n",
    "\n",
    "import numpy                   as np\n",
    "import pandas                  as pd \n",
    "import matplotlib              as mpl\n",
    "import matplotlib.pyplot       as plt\n",
    "\n",
    "from   sklearn.svm             import SVC\n",
    "from   scipy                   import stats\n",
    "from   pandas.plotting         import scatter_matrix\n",
    "from   sklearn.metrics         import confusion_matrix\n",
    "from   sklearn.model_selection import GridSearchCV\n",
    "from   sklearn.metrics         import accuracy_score\n",
    "\n",
    "%matplotlib inline\n"
   ]
  },
  {
   "cell_type": "code",
   "execution_count": 23,
   "metadata": {
    "_cell_guid": "79c7e3d0-c299-4dcb-8224-4455121ee9b0",
    "_uuid": "d629ff2d2480ee46fbb7e2d37f6b5fab8052498a"
   },
   "outputs": [],
   "source": [
    "data = pd.read_csv(\"Turbine_Data.csv\")"
   ]
  },
  {
   "cell_type": "code",
   "execution_count": 24,
   "metadata": {
    "scrolled": true
   },
   "outputs": [
    {
     "data": {
      "text/html": [
       "<div>\n",
       "<style scoped>\n",
       "    .dataframe tbody tr th:only-of-type {\n",
       "        vertical-align: middle;\n",
       "    }\n",
       "\n",
       "    .dataframe tbody tr th {\n",
       "        vertical-align: top;\n",
       "    }\n",
       "\n",
       "    .dataframe thead th {\n",
       "        text-align: right;\n",
       "    }\n",
       "</style>\n",
       "<table border=\"1\" class=\"dataframe\">\n",
       "  <thead>\n",
       "    <tr style=\"text-align: right;\">\n",
       "      <th></th>\n",
       "      <th>Unnamed: 0</th>\n",
       "      <th>ActivePower</th>\n",
       "      <th>AmbientTemperatue</th>\n",
       "      <th>BearingShaftTemperature</th>\n",
       "      <th>Blade1PitchAngle</th>\n",
       "      <th>Blade2PitchAngle</th>\n",
       "      <th>Blade3PitchAngle</th>\n",
       "      <th>ControlBoxTemperature</th>\n",
       "      <th>GearboxBearingTemperature</th>\n",
       "      <th>GearboxOilTemperature</th>\n",
       "      <th>...</th>\n",
       "      <th>GeneratorWinding2Temperature</th>\n",
       "      <th>HubTemperature</th>\n",
       "      <th>MainBoxTemperature</th>\n",
       "      <th>NacellePosition</th>\n",
       "      <th>ReactivePower</th>\n",
       "      <th>RotorRPM</th>\n",
       "      <th>TurbineStatus</th>\n",
       "      <th>WTG</th>\n",
       "      <th>WindDirection</th>\n",
       "      <th>WindSpeed</th>\n",
       "    </tr>\n",
       "  </thead>\n",
       "  <tbody>\n",
       "    <tr>\n",
       "      <th>0</th>\n",
       "      <td>2017-12-31 00:00:00+00:00</td>\n",
       "      <td>NaN</td>\n",
       "      <td>NaN</td>\n",
       "      <td>NaN</td>\n",
       "      <td>NaN</td>\n",
       "      <td>NaN</td>\n",
       "      <td>NaN</td>\n",
       "      <td>NaN</td>\n",
       "      <td>NaN</td>\n",
       "      <td>NaN</td>\n",
       "      <td>...</td>\n",
       "      <td>NaN</td>\n",
       "      <td>NaN</td>\n",
       "      <td>NaN</td>\n",
       "      <td>NaN</td>\n",
       "      <td>NaN</td>\n",
       "      <td>NaN</td>\n",
       "      <td>NaN</td>\n",
       "      <td>G01</td>\n",
       "      <td>NaN</td>\n",
       "      <td>NaN</td>\n",
       "    </tr>\n",
       "    <tr>\n",
       "      <th>1</th>\n",
       "      <td>2017-12-31 00:10:00+00:00</td>\n",
       "      <td>NaN</td>\n",
       "      <td>NaN</td>\n",
       "      <td>NaN</td>\n",
       "      <td>NaN</td>\n",
       "      <td>NaN</td>\n",
       "      <td>NaN</td>\n",
       "      <td>NaN</td>\n",
       "      <td>NaN</td>\n",
       "      <td>NaN</td>\n",
       "      <td>...</td>\n",
       "      <td>NaN</td>\n",
       "      <td>NaN</td>\n",
       "      <td>NaN</td>\n",
       "      <td>NaN</td>\n",
       "      <td>NaN</td>\n",
       "      <td>NaN</td>\n",
       "      <td>NaN</td>\n",
       "      <td>G01</td>\n",
       "      <td>NaN</td>\n",
       "      <td>NaN</td>\n",
       "    </tr>\n",
       "    <tr>\n",
       "      <th>2</th>\n",
       "      <td>2017-12-31 00:20:00+00:00</td>\n",
       "      <td>NaN</td>\n",
       "      <td>NaN</td>\n",
       "      <td>NaN</td>\n",
       "      <td>NaN</td>\n",
       "      <td>NaN</td>\n",
       "      <td>NaN</td>\n",
       "      <td>NaN</td>\n",
       "      <td>NaN</td>\n",
       "      <td>NaN</td>\n",
       "      <td>...</td>\n",
       "      <td>NaN</td>\n",
       "      <td>NaN</td>\n",
       "      <td>NaN</td>\n",
       "      <td>NaN</td>\n",
       "      <td>NaN</td>\n",
       "      <td>NaN</td>\n",
       "      <td>NaN</td>\n",
       "      <td>G01</td>\n",
       "      <td>NaN</td>\n",
       "      <td>NaN</td>\n",
       "    </tr>\n",
       "    <tr>\n",
       "      <th>3</th>\n",
       "      <td>2017-12-31 00:30:00+00:00</td>\n",
       "      <td>NaN</td>\n",
       "      <td>NaN</td>\n",
       "      <td>NaN</td>\n",
       "      <td>NaN</td>\n",
       "      <td>NaN</td>\n",
       "      <td>NaN</td>\n",
       "      <td>NaN</td>\n",
       "      <td>NaN</td>\n",
       "      <td>NaN</td>\n",
       "      <td>...</td>\n",
       "      <td>NaN</td>\n",
       "      <td>NaN</td>\n",
       "      <td>NaN</td>\n",
       "      <td>NaN</td>\n",
       "      <td>NaN</td>\n",
       "      <td>NaN</td>\n",
       "      <td>NaN</td>\n",
       "      <td>G01</td>\n",
       "      <td>NaN</td>\n",
       "      <td>NaN</td>\n",
       "    </tr>\n",
       "    <tr>\n",
       "      <th>4</th>\n",
       "      <td>2017-12-31 00:40:00+00:00</td>\n",
       "      <td>NaN</td>\n",
       "      <td>NaN</td>\n",
       "      <td>NaN</td>\n",
       "      <td>NaN</td>\n",
       "      <td>NaN</td>\n",
       "      <td>NaN</td>\n",
       "      <td>NaN</td>\n",
       "      <td>NaN</td>\n",
       "      <td>NaN</td>\n",
       "      <td>...</td>\n",
       "      <td>NaN</td>\n",
       "      <td>NaN</td>\n",
       "      <td>NaN</td>\n",
       "      <td>NaN</td>\n",
       "      <td>NaN</td>\n",
       "      <td>NaN</td>\n",
       "      <td>NaN</td>\n",
       "      <td>G01</td>\n",
       "      <td>NaN</td>\n",
       "      <td>NaN</td>\n",
       "    </tr>\n",
       "  </tbody>\n",
       "</table>\n",
       "<p>5 rows × 22 columns</p>\n",
       "</div>"
      ],
      "text/plain": [
       "                  Unnamed: 0  ActivePower  AmbientTemperatue  \\\n",
       "0  2017-12-31 00:00:00+00:00          NaN                NaN   \n",
       "1  2017-12-31 00:10:00+00:00          NaN                NaN   \n",
       "2  2017-12-31 00:20:00+00:00          NaN                NaN   \n",
       "3  2017-12-31 00:30:00+00:00          NaN                NaN   \n",
       "4  2017-12-31 00:40:00+00:00          NaN                NaN   \n",
       "\n",
       "   BearingShaftTemperature  Blade1PitchAngle  Blade2PitchAngle  \\\n",
       "0                      NaN               NaN               NaN   \n",
       "1                      NaN               NaN               NaN   \n",
       "2                      NaN               NaN               NaN   \n",
       "3                      NaN               NaN               NaN   \n",
       "4                      NaN               NaN               NaN   \n",
       "\n",
       "   Blade3PitchAngle  ControlBoxTemperature  GearboxBearingTemperature  \\\n",
       "0               NaN                    NaN                        NaN   \n",
       "1               NaN                    NaN                        NaN   \n",
       "2               NaN                    NaN                        NaN   \n",
       "3               NaN                    NaN                        NaN   \n",
       "4               NaN                    NaN                        NaN   \n",
       "\n",
       "   GearboxOilTemperature  ...  GeneratorWinding2Temperature  HubTemperature  \\\n",
       "0                    NaN  ...                           NaN             NaN   \n",
       "1                    NaN  ...                           NaN             NaN   \n",
       "2                    NaN  ...                           NaN             NaN   \n",
       "3                    NaN  ...                           NaN             NaN   \n",
       "4                    NaN  ...                           NaN             NaN   \n",
       "\n",
       "   MainBoxTemperature  NacellePosition  ReactivePower  RotorRPM  \\\n",
       "0                 NaN              NaN            NaN       NaN   \n",
       "1                 NaN              NaN            NaN       NaN   \n",
       "2                 NaN              NaN            NaN       NaN   \n",
       "3                 NaN              NaN            NaN       NaN   \n",
       "4                 NaN              NaN            NaN       NaN   \n",
       "\n",
       "   TurbineStatus  WTG  WindDirection WindSpeed  \n",
       "0            NaN  G01            NaN       NaN  \n",
       "1            NaN  G01            NaN       NaN  \n",
       "2            NaN  G01            NaN       NaN  \n",
       "3            NaN  G01            NaN       NaN  \n",
       "4            NaN  G01            NaN       NaN  \n",
       "\n",
       "[5 rows x 22 columns]"
      ]
     },
     "execution_count": 24,
     "metadata": {},
     "output_type": "execute_result"
    }
   ],
   "source": [
    "data.head()"
   ]
  },
  {
   "cell_type": "code",
   "execution_count": 25,
   "metadata": {},
   "outputs": [],
   "source": [
    "X = data[['F3', 'F4', 'F5', 'F6', 'F8', 'F11', 'F12', 'F13']]\n",
    "y = data['ActivePower']"
   ]
  },
  {
   "cell_type": "code",
   "execution_count": 26,
   "metadata": {},
   "outputs": [
    {
     "name": "stdout",
     "output_type": "stream",
     "text": [
      "[        nan -5.3577271  -5.82236038 ... 20.77778972 62.09103858\n",
      " 68.66442478]\n",
      " 1027.956702      1\n",
      " 1208.416249      1\n",
      " 53.856968        1\n",
      " 1669.082528      1\n",
      "-5.139046         1\n",
      "               ... \n",
      " 0.000439         3\n",
      " 1575.574200      5\n",
      "-0.000302         8\n",
      " 1730.664400     44\n",
      " 0.000000       594\n",
      "Name: ActivePower, Length: 94084, dtype: int64\n"
     ]
    }
   ],
   "source": [
    "group  = y.unique()\n",
    "\n",
    "print(group)\n",
    "\n",
    "y_vals = y.value_counts(ascending=True)\n",
    "print(y_vals)"
   ]
  },
  {
   "cell_type": "code",
   "execution_count": 27,
   "metadata": {},
   "outputs": [
    {
     "name": "stdout",
     "output_type": "stream",
     "text": [
      "number of nan in labels: 23474\n"
     ]
    }
   ],
   "source": [
    "# removing nan entries from X and y\n",
    "\n",
    "n_nan     = y.isnull().sum()\n",
    "print('number of nan in labels: ' +str(n_nan))\n",
    "\n",
    "nan_elems = y.isnull()\n",
    "\n",
    "# denotation \"c\" is for cleaned\n",
    "\n",
    "Xc        = X[~ nan_elems]\n",
    "yc        = y[~ nan_elems]"
   ]
  },
  {
   "cell_type": "code",
   "execution_count": 28,
   "metadata": {},
   "outputs": [
    {
     "name": "stdout",
     "output_type": "stream",
     "text": [
      "y nan entries: \n",
      "0\n"
     ]
    }
   ],
   "source": [
    "# confirming that X and y are nan-free\n",
    "\n",
    "X_nan     = Xc.isnull().sum()\n",
    "y_nan     = yc.isnull().sum()\n",
    "# print('X nan entries: ')\n",
    "# print(X_nan)\n",
    "print('y nan entries: ')\n",
    "print(y_nan)"
   ]
  },
  {
   "cell_type": "code",
   "execution_count": 29,
   "metadata": {},
   "outputs": [
    {
     "data": {
      "image/png": "[encoded data removed]",
      "text/plain": [
       "<Figure size 2160x1440 with 1 Axes>"
      ]
     },
     "metadata": {
      "needs_background": "light"
     },
     "output_type": "display_data"
    }
   ],
   "source": [
    "# plotting histogram (value distribution) for every feature for cleaned (non-nan) data\n",
    "# 100 bins per histogram\n",
    "\n",
    "Xc.hist(bins=100, figsize=(30,20))\n",
    "plt.show()"
   ]
  }
 ],
 "metadata": {
  "kernelspec": {
   "display_name": "Python 3",
   "language": "python",
   "name": "python3"
  },
  "language_info": {
   "codemirror_mode": {
    "name": "ipython",
    "version": 3
   },
   "file_extension": ".py",
   "mimetype": "text/x-python",
   "name": "python",
   "nbconvert_exporter": "python",
   "pygments_lexer": "ipython3",
   "version": "3.8.3"
  }
 },
 "nbformat": 4,
 "nbformat_minor": 4
}
